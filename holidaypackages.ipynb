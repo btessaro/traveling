{
 "cells": [
  {
   "cell_type": "markdown",
   "id": "ff41814b-d34d-4b45-b243-52f7cb1ba9dc",
   "metadata": {},
   "source": [
    "# Holiday packages dataset  🎒✈️"
   ]
  },
  {
   "cell_type": "markdown",
   "id": "a2282fa7-51e9-4494-9d02-40278f96a0a3",
   "metadata": {},
   "source": [
    "Dataset from [Kaggle](https://www.kaggle.com/datasets/susant4learning/holiday-package-purchase-prediction)."
   ]
  },
  {
   "cell_type": "code",
   "execution_count": 74,
   "id": "f66a5dae-8ade-4b48-b2a5-04154f6e9413",
   "metadata": {},
   "outputs": [],
   "source": [
    "import pandas as pd\n",
    "import numpy as np\n",
    "import seaborn as sns\n",
    "import matplotlib.pyplot as plt"
   ]
  },
  {
   "cell_type": "code",
   "execution_count": 75,
   "id": "9320d898-e8c6-4148-9a87-63ac91b744fe",
   "metadata": {},
   "outputs": [],
   "source": [
    "df = pd.read_csv('Travel.csv')"
   ]
  },
  {
   "cell_type": "code",
   "execution_count": 76,
   "id": "dbc7a344-619d-43b3-bcce-a0b553f77cfa",
   "metadata": {},
   "outputs": [
    {
     "data": {
      "text/html": [
       "<div>\n",
       "<style scoped>\n",
       "    .dataframe tbody tr th:only-of-type {\n",
       "        vertical-align: middle;\n",
       "    }\n",
       "\n",
       "    .dataframe tbody tr th {\n",
       "        vertical-align: top;\n",
       "    }\n",
       "\n",
       "    .dataframe thead th {\n",
       "        text-align: right;\n",
       "    }\n",
       "</style>\n",
       "<table border=\"1\" class=\"dataframe\">\n",
       "  <thead>\n",
       "    <tr style=\"text-align: right;\">\n",
       "      <th></th>\n",
       "      <th>CustomerID</th>\n",
       "      <th>ProdTaken</th>\n",
       "      <th>Age</th>\n",
       "      <th>TypeofContact</th>\n",
       "      <th>CityTier</th>\n",
       "      <th>DurationOfPitch</th>\n",
       "      <th>Occupation</th>\n",
       "      <th>Gender</th>\n",
       "      <th>NumberOfPersonVisiting</th>\n",
       "      <th>NumberOfFollowups</th>\n",
       "      <th>ProductPitched</th>\n",
       "      <th>PreferredPropertyStar</th>\n",
       "      <th>MaritalStatus</th>\n",
       "      <th>NumberOfTrips</th>\n",
       "      <th>Passport</th>\n",
       "      <th>PitchSatisfactionScore</th>\n",
       "      <th>OwnCar</th>\n",
       "      <th>NumberOfChildrenVisiting</th>\n",
       "      <th>Designation</th>\n",
       "      <th>MonthlyIncome</th>\n",
       "    </tr>\n",
       "  </thead>\n",
       "  <tbody>\n",
       "    <tr>\n",
       "      <th>0</th>\n",
       "      <td>200000</td>\n",
       "      <td>1</td>\n",
       "      <td>41.0</td>\n",
       "      <td>Self Enquiry</td>\n",
       "      <td>3</td>\n",
       "      <td>6.0</td>\n",
       "      <td>Salaried</td>\n",
       "      <td>Female</td>\n",
       "      <td>3</td>\n",
       "      <td>3.0</td>\n",
       "      <td>Deluxe</td>\n",
       "      <td>3.0</td>\n",
       "      <td>Single</td>\n",
       "      <td>1.0</td>\n",
       "      <td>1</td>\n",
       "      <td>2</td>\n",
       "      <td>1</td>\n",
       "      <td>0.0</td>\n",
       "      <td>Manager</td>\n",
       "      <td>20993.0</td>\n",
       "    </tr>\n",
       "    <tr>\n",
       "      <th>1</th>\n",
       "      <td>200001</td>\n",
       "      <td>0</td>\n",
       "      <td>49.0</td>\n",
       "      <td>Company Invited</td>\n",
       "      <td>1</td>\n",
       "      <td>14.0</td>\n",
       "      <td>Salaried</td>\n",
       "      <td>Male</td>\n",
       "      <td>3</td>\n",
       "      <td>4.0</td>\n",
       "      <td>Deluxe</td>\n",
       "      <td>4.0</td>\n",
       "      <td>Divorced</td>\n",
       "      <td>2.0</td>\n",
       "      <td>0</td>\n",
       "      <td>3</td>\n",
       "      <td>1</td>\n",
       "      <td>2.0</td>\n",
       "      <td>Manager</td>\n",
       "      <td>20130.0</td>\n",
       "    </tr>\n",
       "    <tr>\n",
       "      <th>2</th>\n",
       "      <td>200002</td>\n",
       "      <td>1</td>\n",
       "      <td>37.0</td>\n",
       "      <td>Self Enquiry</td>\n",
       "      <td>1</td>\n",
       "      <td>8.0</td>\n",
       "      <td>Free Lancer</td>\n",
       "      <td>Male</td>\n",
       "      <td>3</td>\n",
       "      <td>4.0</td>\n",
       "      <td>Basic</td>\n",
       "      <td>3.0</td>\n",
       "      <td>Single</td>\n",
       "      <td>7.0</td>\n",
       "      <td>1</td>\n",
       "      <td>3</td>\n",
       "      <td>0</td>\n",
       "      <td>0.0</td>\n",
       "      <td>Executive</td>\n",
       "      <td>17090.0</td>\n",
       "    </tr>\n",
       "    <tr>\n",
       "      <th>3</th>\n",
       "      <td>200003</td>\n",
       "      <td>0</td>\n",
       "      <td>33.0</td>\n",
       "      <td>Company Invited</td>\n",
       "      <td>1</td>\n",
       "      <td>9.0</td>\n",
       "      <td>Salaried</td>\n",
       "      <td>Female</td>\n",
       "      <td>2</td>\n",
       "      <td>3.0</td>\n",
       "      <td>Basic</td>\n",
       "      <td>3.0</td>\n",
       "      <td>Divorced</td>\n",
       "      <td>2.0</td>\n",
       "      <td>1</td>\n",
       "      <td>5</td>\n",
       "      <td>1</td>\n",
       "      <td>1.0</td>\n",
       "      <td>Executive</td>\n",
       "      <td>17909.0</td>\n",
       "    </tr>\n",
       "    <tr>\n",
       "      <th>4</th>\n",
       "      <td>200004</td>\n",
       "      <td>0</td>\n",
       "      <td>NaN</td>\n",
       "      <td>Self Enquiry</td>\n",
       "      <td>1</td>\n",
       "      <td>8.0</td>\n",
       "      <td>Small Business</td>\n",
       "      <td>Male</td>\n",
       "      <td>2</td>\n",
       "      <td>3.0</td>\n",
       "      <td>Basic</td>\n",
       "      <td>4.0</td>\n",
       "      <td>Divorced</td>\n",
       "      <td>1.0</td>\n",
       "      <td>0</td>\n",
       "      <td>5</td>\n",
       "      <td>1</td>\n",
       "      <td>0.0</td>\n",
       "      <td>Executive</td>\n",
       "      <td>18468.0</td>\n",
       "    </tr>\n",
       "  </tbody>\n",
       "</table>\n",
       "</div>"
      ],
      "text/plain": [
       "   CustomerID  ProdTaken   Age    TypeofContact  CityTier  DurationOfPitch  \\\n",
       "0      200000          1  41.0     Self Enquiry         3              6.0   \n",
       "1      200001          0  49.0  Company Invited         1             14.0   \n",
       "2      200002          1  37.0     Self Enquiry         1              8.0   \n",
       "3      200003          0  33.0  Company Invited         1              9.0   \n",
       "4      200004          0   NaN     Self Enquiry         1              8.0   \n",
       "\n",
       "       Occupation  Gender  NumberOfPersonVisiting  NumberOfFollowups  \\\n",
       "0        Salaried  Female                       3                3.0   \n",
       "1        Salaried    Male                       3                4.0   \n",
       "2     Free Lancer    Male                       3                4.0   \n",
       "3        Salaried  Female                       2                3.0   \n",
       "4  Small Business    Male                       2                3.0   \n",
       "\n",
       "  ProductPitched  PreferredPropertyStar MaritalStatus  NumberOfTrips  \\\n",
       "0         Deluxe                    3.0        Single            1.0   \n",
       "1         Deluxe                    4.0      Divorced            2.0   \n",
       "2          Basic                    3.0        Single            7.0   \n",
       "3          Basic                    3.0      Divorced            2.0   \n",
       "4          Basic                    4.0      Divorced            1.0   \n",
       "\n",
       "   Passport  PitchSatisfactionScore  OwnCar  NumberOfChildrenVisiting  \\\n",
       "0         1                       2       1                       0.0   \n",
       "1         0                       3       1                       2.0   \n",
       "2         1                       3       0                       0.0   \n",
       "3         1                       5       1                       1.0   \n",
       "4         0                       5       1                       0.0   \n",
       "\n",
       "  Designation  MonthlyIncome  \n",
       "0     Manager        20993.0  \n",
       "1     Manager        20130.0  \n",
       "2   Executive        17090.0  \n",
       "3   Executive        17909.0  \n",
       "4   Executive        18468.0  "
      ]
     },
     "execution_count": 76,
     "metadata": {},
     "output_type": "execute_result"
    }
   ],
   "source": [
    "df.head()"
   ]
  },
  {
   "cell_type": "code",
   "execution_count": 77,
   "id": "20bae2c5-ecbc-4dec-813c-5dc4df1c9ee4",
   "metadata": {},
   "outputs": [
    {
     "data": {
      "text/plain": [
       "Male       2916\n",
       "Female     1817\n",
       "Fe Male     155\n",
       "Name: Gender, dtype: int64"
      ]
     },
     "execution_count": 77,
     "metadata": {},
     "output_type": "execute_result"
    }
   ],
   "source": [
    "df.Gender.value_counts()"
   ]
  },
  {
   "cell_type": "code",
   "execution_count": 78,
   "id": "e04792bb-1e0f-4cbc-8602-15015e9b395c",
   "metadata": {},
   "outputs": [
    {
     "data": {
      "image/png": "[encoded data removed]",
      "text/plain": [
       "<Figure size 432x288 with 1 Axes>"
      ]
     },
     "metadata": {},
     "output_type": "display_data"
    }
   ],
   "source": [
    "sns.countplot(x = \"Gender\", data = df)\n",
    "for spine in plt.gca().spines.values():\n",
    "    spine.set_visible(False)"
   ]
  },
  {
   "cell_type": "markdown",
   "id": "22117124-fd62-415e-8a5f-893ecb69a3c8",
   "metadata": {},
   "source": [
    "Not sure what Fe Male is, so delete that from df."
   ]
  },
  {
   "cell_type": "code",
   "execution_count": 79,
   "id": "5c4c5967-2135-4c08-b28e-805d7873d19d",
   "metadata": {},
   "outputs": [],
   "source": [
    "df = df.loc[(df['Gender']!=\"Fe Male\")]"
   ]
  },
  {
   "cell_type": "code",
   "execution_count": 80,
   "id": "c49f5951-bcea-4da3-b4ee-d267fe63cf6f",
   "metadata": {},
   "outputs": [
    {
     "data": {
      "text/plain": [
       "Male      2916\n",
       "Female    1817\n",
       "Name: Gender, dtype: int64"
      ]
     },
     "execution_count": 80,
     "metadata": {},
     "output_type": "execute_result"
    }
   ],
   "source": [
    "df.Gender.value_counts()"
   ]
  },
  {
   "cell_type": "markdown",
   "id": "e566c0ed-1fa1-45d8-9829-6c5ef9adf984",
   "metadata": {},
   "source": [
    "Let's also change the Gender labels"
   ]
  },
  {
   "cell_type": "code",
   "execution_count": 81,
   "id": "0ed5d5ee-209e-4adf-8074-cfbb0804d7e5",
   "metadata": {},
   "outputs": [],
   "source": [
    "df['Gender'] = df.Gender.replace({'Female': \"Women\", 'Male': 'Men'})"
   ]
  },
  {
   "cell_type": "markdown",
   "id": "23f9d33d-210e-445d-917e-05ac41067625",
   "metadata": {},
   "source": [
    "## Who travels more?"
   ]
  },
  {
   "cell_type": "code",
   "execution_count": 82,
   "id": "0ead2437-c9c0-4b7a-81d1-0d3324c5a08d",
   "metadata": {},
   "outputs": [
    {
     "data": {
      "text/html": [
       "<div>\n",
       "<style scoped>\n",
       "    .dataframe tbody tr th:only-of-type {\n",
       "        vertical-align: middle;\n",
       "    }\n",
       "\n",
       "    .dataframe tbody tr th {\n",
       "        vertical-align: top;\n",
       "    }\n",
       "\n",
       "    .dataframe thead tr th {\n",
       "        text-align: left;\n",
       "    }\n",
       "\n",
       "    .dataframe thead tr:last-of-type th {\n",
       "        text-align: right;\n",
       "    }\n",
       "</style>\n",
       "<table border=\"1\" class=\"dataframe\">\n",
       "  <thead>\n",
       "    <tr>\n",
       "      <th>MaritalStatus</th>\n",
       "      <th colspan=\"2\" halign=\"left\">Divorced</th>\n",
       "      <th colspan=\"2\" halign=\"left\">Married</th>\n",
       "      <th colspan=\"2\" halign=\"left\">Single</th>\n",
       "      <th colspan=\"2\" halign=\"left\">Unmarried</th>\n",
       "    </tr>\n",
       "    <tr>\n",
       "      <th>Gender</th>\n",
       "      <th>Men</th>\n",
       "      <th>Women</th>\n",
       "      <th>Men</th>\n",
       "      <th>Women</th>\n",
       "      <th>Men</th>\n",
       "      <th>Women</th>\n",
       "      <th>Men</th>\n",
       "      <th>Women</th>\n",
       "    </tr>\n",
       "    <tr>\n",
       "      <th>Occupation</th>\n",
       "      <th></th>\n",
       "      <th></th>\n",
       "      <th></th>\n",
       "      <th></th>\n",
       "      <th></th>\n",
       "      <th></th>\n",
       "      <th></th>\n",
       "      <th></th>\n",
       "    </tr>\n",
       "  </thead>\n",
       "  <tbody>\n",
       "    <tr>\n",
       "      <th>Free Lancer</th>\n",
       "      <td>NaN</td>\n",
       "      <td>NaN</td>\n",
       "      <td>NaN</td>\n",
       "      <td>NaN</td>\n",
       "      <td>7.500000</td>\n",
       "      <td>NaN</td>\n",
       "      <td>NaN</td>\n",
       "      <td>NaN</td>\n",
       "    </tr>\n",
       "    <tr>\n",
       "      <th>Large Business</th>\n",
       "      <td>3.851064</td>\n",
       "      <td>2.555556</td>\n",
       "      <td>3.643478</td>\n",
       "      <td>3.038462</td>\n",
       "      <td>4.392857</td>\n",
       "      <td>2.729730</td>\n",
       "      <td>3.277778</td>\n",
       "      <td>3.928571</td>\n",
       "    </tr>\n",
       "    <tr>\n",
       "      <th>Salaried</th>\n",
       "      <td>3.348485</td>\n",
       "      <td>2.943182</td>\n",
       "      <td>3.303965</td>\n",
       "      <td>3.280098</td>\n",
       "      <td>2.801762</td>\n",
       "      <td>3.055276</td>\n",
       "      <td>3.293532</td>\n",
       "      <td>3.269231</td>\n",
       "    </tr>\n",
       "    <tr>\n",
       "      <th>Small Business</th>\n",
       "      <td>2.982456</td>\n",
       "      <td>3.689024</td>\n",
       "      <td>3.247475</td>\n",
       "      <td>3.408269</td>\n",
       "      <td>2.867841</td>\n",
       "      <td>2.594203</td>\n",
       "      <td>3.133803</td>\n",
       "      <td>3.220339</td>\n",
       "    </tr>\n",
       "  </tbody>\n",
       "</table>\n",
       "</div>"
      ],
      "text/plain": [
       "MaritalStatus   Divorced             Married              Single            \\\n",
       "Gender               Men     Women       Men     Women       Men     Women   \n",
       "Occupation                                                                   \n",
       "Free Lancer          NaN       NaN       NaN       NaN  7.500000       NaN   \n",
       "Large Business  3.851064  2.555556  3.643478  3.038462  4.392857  2.729730   \n",
       "Salaried        3.348485  2.943182  3.303965  3.280098  2.801762  3.055276   \n",
       "Small Business  2.982456  3.689024  3.247475  3.408269  2.867841  2.594203   \n",
       "\n",
       "MaritalStatus  Unmarried            \n",
       "Gender               Men     Women  \n",
       "Occupation                          \n",
       "Free Lancer          NaN       NaN  \n",
       "Large Business  3.277778  3.928571  \n",
       "Salaried        3.293532  3.269231  \n",
       "Small Business  3.133803  3.220339  "
      ]
     },
     "execution_count": 82,
     "metadata": {},
     "output_type": "execute_result"
    }
   ],
   "source": [
    "pd.pivot_table(data = df, index = 'Occupation',\n",
    "              columns = ['MaritalStatus', 'Gender'],\n",
    "               values = 'NumberOfTrips',\n",
    "              aggfunc = 'mean')"
   ]
  },
  {
   "cell_type": "markdown",
   "id": "1c00e257-98c1-4833-bb38-21233c22329d",
   "metadata": {},
   "source": [
    "I'm just cheking here if this pivot table is doing what I want: getting the average number of trips per group"
   ]
  },
  {
   "cell_type": "code",
   "execution_count": 83,
   "id": "6f2ff544-5984-4c0f-b81b-20fe2bfc27fb",
   "metadata": {},
   "outputs": [
    {
     "data": {
      "text/plain": [
       "2.5555555555555554"
      ]
     },
     "execution_count": 83,
     "metadata": {},
     "output_type": "execute_result"
    }
   ],
   "source": [
    "df_divorced_women = df[(df.Gender == 'Women') &\n",
    "                     (df.MaritalStatus == 'Divorced') & \n",
    "                     (df.Occupation == 'Large Business')]\n",
    "df_divorced_women.NumberOfTrips.mean()"
   ]
  },
  {
   "cell_type": "code",
   "execution_count": 84,
   "id": "24b50cd7-14ae-4a41-bd47-deeaa8a2d48e",
   "metadata": {},
   "outputs": [
    {
     "data": {
      "text/plain": [
       "4.392857142857143"
      ]
     },
     "execution_count": 84,
     "metadata": {},
     "output_type": "execute_result"
    }
   ],
   "source": [
    "df_single_men = df[(df.Gender == 'Men') &\n",
    "                     (df.MaritalStatus == 'Single') & \n",
    "                     (df.Occupation == 'Large Business')]\n",
    "df_single_men.NumberOfTrips.mean()"
   ]
  },
  {
   "cell_type": "markdown",
   "id": "f1d1caaa-f13c-455d-90b4-28f60c37d114",
   "metadata": {},
   "source": [
    "Why NaN? "
   ]
  },
  {
   "cell_type": "code",
   "execution_count": 85,
   "id": "39c6ba2f-c514-42f6-a5c6-cdad0d0cb9db",
   "metadata": {},
   "outputs": [
    {
     "data": {
      "text/html": [
       "<div>\n",
       "<style scoped>\n",
       "    .dataframe tbody tr th:only-of-type {\n",
       "        vertical-align: middle;\n",
       "    }\n",
       "\n",
       "    .dataframe tbody tr th {\n",
       "        vertical-align: top;\n",
       "    }\n",
       "\n",
       "    .dataframe thead th {\n",
       "        text-align: right;\n",
       "    }\n",
       "</style>\n",
       "<table border=\"1\" class=\"dataframe\">\n",
       "  <thead>\n",
       "    <tr style=\"text-align: right;\">\n",
       "      <th></th>\n",
       "      <th>CustomerID</th>\n",
       "      <th>ProdTaken</th>\n",
       "      <th>Age</th>\n",
       "      <th>TypeofContact</th>\n",
       "      <th>CityTier</th>\n",
       "      <th>DurationOfPitch</th>\n",
       "      <th>Occupation</th>\n",
       "      <th>Gender</th>\n",
       "      <th>NumberOfPersonVisiting</th>\n",
       "      <th>NumberOfFollowups</th>\n",
       "      <th>ProductPitched</th>\n",
       "      <th>PreferredPropertyStar</th>\n",
       "      <th>MaritalStatus</th>\n",
       "      <th>NumberOfTrips</th>\n",
       "      <th>Passport</th>\n",
       "      <th>PitchSatisfactionScore</th>\n",
       "      <th>OwnCar</th>\n",
       "      <th>NumberOfChildrenVisiting</th>\n",
       "      <th>Designation</th>\n",
       "      <th>MonthlyIncome</th>\n",
       "    </tr>\n",
       "  </thead>\n",
       "  <tbody>\n",
       "    <tr>\n",
       "      <th>2</th>\n",
       "      <td>200002</td>\n",
       "      <td>1</td>\n",
       "      <td>37.0</td>\n",
       "      <td>Self Enquiry</td>\n",
       "      <td>1</td>\n",
       "      <td>8.0</td>\n",
       "      <td>Free Lancer</td>\n",
       "      <td>Men</td>\n",
       "      <td>3</td>\n",
       "      <td>4.0</td>\n",
       "      <td>Basic</td>\n",
       "      <td>3.0</td>\n",
       "      <td>Single</td>\n",
       "      <td>7.0</td>\n",
       "      <td>1</td>\n",
       "      <td>3</td>\n",
       "      <td>0</td>\n",
       "      <td>0.0</td>\n",
       "      <td>Executive</td>\n",
       "      <td>17090.0</td>\n",
       "    </tr>\n",
       "    <tr>\n",
       "      <th>2446</th>\n",
       "      <td>202446</td>\n",
       "      <td>1</td>\n",
       "      <td>38.0</td>\n",
       "      <td>Self Enquiry</td>\n",
       "      <td>1</td>\n",
       "      <td>9.0</td>\n",
       "      <td>Free Lancer</td>\n",
       "      <td>Men</td>\n",
       "      <td>4</td>\n",
       "      <td>5.0</td>\n",
       "      <td>Basic</td>\n",
       "      <td>3.0</td>\n",
       "      <td>Single</td>\n",
       "      <td>8.0</td>\n",
       "      <td>1</td>\n",
       "      <td>3</td>\n",
       "      <td>0</td>\n",
       "      <td>1.0</td>\n",
       "      <td>Executive</td>\n",
       "      <td>20768.0</td>\n",
       "    </tr>\n",
       "  </tbody>\n",
       "</table>\n",
       "</div>"
      ],
      "text/plain": [
       "      CustomerID  ProdTaken   Age TypeofContact  CityTier  DurationOfPitch  \\\n",
       "2         200002          1  37.0  Self Enquiry         1              8.0   \n",
       "2446      202446          1  38.0  Self Enquiry         1              9.0   \n",
       "\n",
       "       Occupation Gender  NumberOfPersonVisiting  NumberOfFollowups  \\\n",
       "2     Free Lancer    Men                       3                4.0   \n",
       "2446  Free Lancer    Men                       4                5.0   \n",
       "\n",
       "     ProductPitched  PreferredPropertyStar MaritalStatus  NumberOfTrips  \\\n",
       "2             Basic                    3.0        Single            7.0   \n",
       "2446          Basic                    3.0        Single            8.0   \n",
       "\n",
       "      Passport  PitchSatisfactionScore  OwnCar  NumberOfChildrenVisiting  \\\n",
       "2            1                       3       0                       0.0   \n",
       "2446         1                       3       0                       1.0   \n",
       "\n",
       "     Designation  MonthlyIncome  \n",
       "2      Executive        17090.0  \n",
       "2446   Executive        20768.0  "
      ]
     },
     "execution_count": 85,
     "metadata": {},
     "output_type": "execute_result"
    }
   ],
   "source": [
    "df.loc[(df['Occupation']==\"Free Lancer\")]"
   ]
  },
  {
   "cell_type": "markdown",
   "id": "930b4161-42e7-4ea8-83d0-cd19644aaa17",
   "metadata": {},
   "source": [
    "Because there are only two Freelancers in the dataset and they are Male!!"
   ]
  },
  {
   "cell_type": "markdown",
   "id": "024a8ba1-51fd-46ca-b124-7027eb813c64",
   "metadata": {},
   "source": [
    "I'll now create a dataset with the columns of interest to answer my question"
   ]
  },
  {
   "cell_type": "code",
   "execution_count": 86,
   "id": "ad875158-1300-4d2f-97b5-ec00a52bf1ea",
   "metadata": {},
   "outputs": [],
   "source": [
    "question1 = df[['Gender', 'Occupation', 'MaritalStatus', 'NumberOfTrips']]"
   ]
  },
  {
   "cell_type": "code",
   "execution_count": 87,
   "id": "16319910-7faa-4130-b8de-a60fa29fbd1d",
   "metadata": {},
   "outputs": [
    {
     "data": {
      "image/png": "[encoded data removed]",
      "text/plain": [
       "<Figure size 432x288 with 1 Axes>"
      ]
     },
     "metadata": {},
     "output_type": "display_data"
    }
   ],
   "source": [
    "sns.barplot(x=\"Gender\", y=\"NumberOfTrips\",\n",
    "            hue = 'MaritalStatus',\n",
    "             data=question1).set(title='Who travels more?',\n",
    "                          xlabel = 'Gender', ylabel = 'Number of trips')\n",
    "for spine in plt.gca().spines.values():\n",
    "    spine.set_visible(False)"
   ]
  },
  {
   "cell_type": "markdown",
   "id": "47986e18-467b-45e5-83b4-ca2288fa218e",
   "metadata": {},
   "source": [
    "It looks like Single people travel a bit less..."
   ]
  },
  {
   "cell_type": "code",
   "execution_count": 88,
   "id": "eb16d685-246f-406c-8119-32270e72b383",
   "metadata": {},
   "outputs": [
    {
     "data": {
      "image/png": "[encoded data removed]",
      "text/plain": [
       "<Figure size 432x288 with 1 Axes>"
      ]
     },
     "metadata": {},
     "output_type": "display_data"
    }
   ],
   "source": [
    "sns.barplot(x='MaritalStatus', y=\"NumberOfTrips\",\n",
    "            hue = 'Gender',\n",
    "             data=question1).set(title='Who travels more?',\n",
    "                          xlabel = 'Gender', ylabel = 'Number of trips')\n",
    "for spine in plt.gca().spines.values():\n",
    "    spine.set_visible(False)"
   ]
  },
  {
   "cell_type": "markdown",
   "id": "747201bd-f46f-415b-846b-21853e5a17a0",
   "metadata": {},
   "source": [
    "especially single women travel less..."
   ]
  },
  {
   "cell_type": "code",
   "execution_count": 89,
   "id": "92d1e1ed-90fb-442c-b5ec-2179d437fd0d",
   "metadata": {},
   "outputs": [
    {
     "data": {
      "image/png": "[encoded data removed]",
      "text/plain": [
       "<Figure size 432x288 with 1 Axes>"
      ]
     },
     "metadata": {},
     "output_type": "display_data"
    }
   ],
   "source": [
    "sns.barplot(x='Gender', y=\"NumberOfTrips\",\n",
    "            hue = 'MaritalStatus',\n",
    "             data=question1).set(title='Who travels more?',\n",
    "                          xlabel = 'Gender', ylabel = 'Number of trips')\n",
    "for spine in plt.gca().spines.values():\n",
    "    spine.set_visible(False)"
   ]
  },
  {
   "cell_type": "markdown",
   "id": "f9a3c2c8-44f4-4917-afc7-e9ea430f9c2d",
   "metadata": {},
   "source": [
    "we only have data for 2 freelancers, let's check how many datapoints we have for the other occupations..."
   ]
  },
  {
   "cell_type": "code",
   "execution_count": 90,
   "id": "1402946d-4429-41ad-9dc1-c7f2a0ad2140",
   "metadata": {},
   "outputs": [
    {
     "data": {
      "text/plain": [
       "Salaried          2303\n",
       "Small Business    2007\n",
       "Large Business     421\n",
       "Free Lancer          2\n",
       "Name: Occupation, dtype: int64"
      ]
     },
     "execution_count": 90,
     "metadata": {},
     "output_type": "execute_result"
    }
   ],
   "source": [
    "question1.Occupation.value_counts()"
   ]
  },
  {
   "cell_type": "markdown",
   "id": "53678924-0a55-4aab-9a86-a88376c3e5ca",
   "metadata": {},
   "source": [
    "Ok, so I think it's best if we remove the 2 freelancers"
   ]
  },
  {
   "cell_type": "code",
   "execution_count": 91,
   "id": "6bf40931-c46e-4f29-9856-15e5ce149b32",
   "metadata": {},
   "outputs": [],
   "source": [
    "question1 = question1.loc[(df['Occupation']!=\"Free Lancer\")]"
   ]
  },
  {
   "cell_type": "markdown",
   "id": "b456f3da-e392-42d8-adda-5562c2ebdf41",
   "metadata": {},
   "source": [
    "something is not adding up - the pivot table above tells us that single men travel more in average...whereas the plot tells us tha single people travel less..what's going on?\n",
    "well, that was specific for Large Businesses..."
   ]
  },
  {
   "cell_type": "code",
   "execution_count": 92,
   "id": "4c692e35-8d15-4352-adaf-dc15c7a600b6",
   "metadata": {},
   "outputs": [
    {
     "data": {
      "image/png": "[encoded data removed]",
      "text/plain": [
       "<Figure size 432x288 with 1 Axes>"
      ]
     },
     "metadata": {},
     "output_type": "display_data"
    }
   ],
   "source": [
    "sns.barplot(x='Occupation', y=\"NumberOfTrips\",\n",
    "            hue = 'Gender',\n",
    "             data=question1).set(title='Who travels more?',\n",
    "                          xlabel = 'Occupation', ylabel = 'Number of trips')\n",
    "for spine in plt.gca().spines.values():\n",
    "    spine.set_visible(False)"
   ]
  },
  {
   "cell_type": "markdown",
   "id": "12fde096-d88f-4f36-959a-7c84bced0b5a",
   "metadata": {},
   "source": [
    "so I'll join Marital Status with Gender in a column and look at that by Occupation."
   ]
  },
  {
   "cell_type": "code",
   "execution_count": 93,
   "id": "838100e1-17db-4cd6-aa8d-4096fca4421f",
   "metadata": {},
   "outputs": [
    {
     "data": {
      "text/html": [
       "<div>\n",
       "<style scoped>\n",
       "    .dataframe tbody tr th:only-of-type {\n",
       "        vertical-align: middle;\n",
       "    }\n",
       "\n",
       "    .dataframe tbody tr th {\n",
       "        vertical-align: top;\n",
       "    }\n",
       "\n",
       "    .dataframe thead th {\n",
       "        text-align: right;\n",
       "    }\n",
       "</style>\n",
       "<table border=\"1\" class=\"dataframe\">\n",
       "  <thead>\n",
       "    <tr style=\"text-align: right;\">\n",
       "      <th></th>\n",
       "      <th>Occupation</th>\n",
       "      <th>GenderMaritalStatus</th>\n",
       "      <th>NumberOfTrips</th>\n",
       "    </tr>\n",
       "  </thead>\n",
       "  <tbody>\n",
       "    <tr>\n",
       "      <th>0</th>\n",
       "      <td>Salaried</td>\n",
       "      <td>Single Women</td>\n",
       "      <td>1.0</td>\n",
       "    </tr>\n",
       "    <tr>\n",
       "      <th>1</th>\n",
       "      <td>Salaried</td>\n",
       "      <td>Divorced Men</td>\n",
       "      <td>2.0</td>\n",
       "    </tr>\n",
       "    <tr>\n",
       "      <th>3</th>\n",
       "      <td>Salaried</td>\n",
       "      <td>Divorced Women</td>\n",
       "      <td>2.0</td>\n",
       "    </tr>\n",
       "    <tr>\n",
       "      <th>4</th>\n",
       "      <td>Small Business</td>\n",
       "      <td>Divorced Men</td>\n",
       "      <td>1.0</td>\n",
       "    </tr>\n",
       "    <tr>\n",
       "      <th>5</th>\n",
       "      <td>Salaried</td>\n",
       "      <td>Single Men</td>\n",
       "      <td>1.0</td>\n",
       "    </tr>\n",
       "  </tbody>\n",
       "</table>\n",
       "</div>"
      ],
      "text/plain": [
       "       Occupation GenderMaritalStatus  NumberOfTrips\n",
       "0        Salaried        Single Women            1.0\n",
       "1        Salaried        Divorced Men            2.0\n",
       "3        Salaried      Divorced Women            2.0\n",
       "4  Small Business        Divorced Men            1.0\n",
       "5        Salaried          Single Men            1.0"
      ]
     },
     "execution_count": 93,
     "metadata": {},
     "output_type": "execute_result"
    }
   ],
   "source": [
    "question1['GenderMaritalStatus'] = question1.MaritalStatus.str.cat(question1.Gender, sep = ' ')\n",
    "question1 = question1[['Occupation','GenderMaritalStatus', 'NumberOfTrips']]\n",
    "question1.head()"
   ]
  },
  {
   "cell_type": "code",
   "execution_count": 94,
   "id": "cc12e41e-0307-4689-bb3c-86f22de1217b",
   "metadata": {},
   "outputs": [
    {
     "data": {
      "text/html": [
       "<div>\n",
       "<style scoped>\n",
       "    .dataframe tbody tr th:only-of-type {\n",
       "        vertical-align: middle;\n",
       "    }\n",
       "\n",
       "    .dataframe tbody tr th {\n",
       "        vertical-align: top;\n",
       "    }\n",
       "\n",
       "    .dataframe thead th {\n",
       "        text-align: right;\n",
       "    }\n",
       "</style>\n",
       "<table border=\"1\" class=\"dataframe\">\n",
       "  <thead>\n",
       "    <tr style=\"text-align: right;\">\n",
       "      <th></th>\n",
       "      <th></th>\n",
       "      <th>NumberOfTrips</th>\n",
       "    </tr>\n",
       "    <tr>\n",
       "      <th>GenderMaritalStatus</th>\n",
       "      <th>Occupation</th>\n",
       "      <th></th>\n",
       "    </tr>\n",
       "  </thead>\n",
       "  <tbody>\n",
       "    <tr>\n",
       "      <th>Single Men</th>\n",
       "      <th>Large Business</th>\n",
       "      <td>4.392857</td>\n",
       "    </tr>\n",
       "    <tr>\n",
       "      <th>Unmarried Women</th>\n",
       "      <th>Large Business</th>\n",
       "      <td>3.928571</td>\n",
       "    </tr>\n",
       "    <tr>\n",
       "      <th>Divorced Men</th>\n",
       "      <th>Large Business</th>\n",
       "      <td>3.851064</td>\n",
       "    </tr>\n",
       "    <tr>\n",
       "      <th>Divorced Women</th>\n",
       "      <th>Small Business</th>\n",
       "      <td>3.689024</td>\n",
       "    </tr>\n",
       "    <tr>\n",
       "      <th>Married Men</th>\n",
       "      <th>Large Business</th>\n",
       "      <td>3.643478</td>\n",
       "    </tr>\n",
       "    <tr>\n",
       "      <th>Married Women</th>\n",
       "      <th>Small Business</th>\n",
       "      <td>3.408269</td>\n",
       "    </tr>\n",
       "    <tr>\n",
       "      <th>Divorced Men</th>\n",
       "      <th>Salaried</th>\n",
       "      <td>3.348485</td>\n",
       "    </tr>\n",
       "    <tr>\n",
       "      <th>Married Men</th>\n",
       "      <th>Salaried</th>\n",
       "      <td>3.303965</td>\n",
       "    </tr>\n",
       "    <tr>\n",
       "      <th>Unmarried Men</th>\n",
       "      <th>Salaried</th>\n",
       "      <td>3.293532</td>\n",
       "    </tr>\n",
       "    <tr>\n",
       "      <th>Married Women</th>\n",
       "      <th>Salaried</th>\n",
       "      <td>3.280098</td>\n",
       "    </tr>\n",
       "    <tr>\n",
       "      <th>Unmarried Men</th>\n",
       "      <th>Large Business</th>\n",
       "      <td>3.277778</td>\n",
       "    </tr>\n",
       "    <tr>\n",
       "      <th>Unmarried Women</th>\n",
       "      <th>Salaried</th>\n",
       "      <td>3.269231</td>\n",
       "    </tr>\n",
       "    <tr>\n",
       "      <th>Married Men</th>\n",
       "      <th>Small Business</th>\n",
       "      <td>3.247475</td>\n",
       "    </tr>\n",
       "    <tr>\n",
       "      <th>Unmarried Women</th>\n",
       "      <th>Small Business</th>\n",
       "      <td>3.220339</td>\n",
       "    </tr>\n",
       "    <tr>\n",
       "      <th>Unmarried Men</th>\n",
       "      <th>Small Business</th>\n",
       "      <td>3.133803</td>\n",
       "    </tr>\n",
       "    <tr>\n",
       "      <th>Single Women</th>\n",
       "      <th>Salaried</th>\n",
       "      <td>3.055276</td>\n",
       "    </tr>\n",
       "    <tr>\n",
       "      <th>Married Women</th>\n",
       "      <th>Large Business</th>\n",
       "      <td>3.038462</td>\n",
       "    </tr>\n",
       "    <tr>\n",
       "      <th>Divorced Men</th>\n",
       "      <th>Small Business</th>\n",
       "      <td>2.982456</td>\n",
       "    </tr>\n",
       "    <tr>\n",
       "      <th>Divorced Women</th>\n",
       "      <th>Salaried</th>\n",
       "      <td>2.943182</td>\n",
       "    </tr>\n",
       "    <tr>\n",
       "      <th rowspan=\"2\" valign=\"top\">Single Men</th>\n",
       "      <th>Small Business</th>\n",
       "      <td>2.867841</td>\n",
       "    </tr>\n",
       "    <tr>\n",
       "      <th>Salaried</th>\n",
       "      <td>2.801762</td>\n",
       "    </tr>\n",
       "    <tr>\n",
       "      <th rowspan=\"2\" valign=\"top\">Single Women</th>\n",
       "      <th>Large Business</th>\n",
       "      <td>2.729730</td>\n",
       "    </tr>\n",
       "    <tr>\n",
       "      <th>Small Business</th>\n",
       "      <td>2.594203</td>\n",
       "    </tr>\n",
       "    <tr>\n",
       "      <th>Divorced Women</th>\n",
       "      <th>Large Business</th>\n",
       "      <td>2.555556</td>\n",
       "    </tr>\n",
       "  </tbody>\n",
       "</table>\n",
       "</div>"
      ],
      "text/plain": [
       "                                    NumberOfTrips\n",
       "GenderMaritalStatus Occupation                   \n",
       "Single Men          Large Business       4.392857\n",
       "Unmarried Women     Large Business       3.928571\n",
       "Divorced Men        Large Business       3.851064\n",
       "Divorced Women      Small Business       3.689024\n",
       "Married Men         Large Business       3.643478\n",
       "Married Women       Small Business       3.408269\n",
       "Divorced Men        Salaried             3.348485\n",
       "Married Men         Salaried             3.303965\n",
       "Unmarried Men       Salaried             3.293532\n",
       "Married Women       Salaried             3.280098\n",
       "Unmarried Men       Large Business       3.277778\n",
       "Unmarried Women     Salaried             3.269231\n",
       "Married Men         Small Business       3.247475\n",
       "Unmarried Women     Small Business       3.220339\n",
       "Unmarried Men       Small Business       3.133803\n",
       "Single Women        Salaried             3.055276\n",
       "Married Women       Large Business       3.038462\n",
       "Divorced Men        Small Business       2.982456\n",
       "Divorced Women      Salaried             2.943182\n",
       "Single Men          Small Business       2.867841\n",
       "                    Salaried             2.801762\n",
       "Single Women        Large Business       2.729730\n",
       "                    Small Business       2.594203\n",
       "Divorced Women      Large Business       2.555556"
      ]
     },
     "execution_count": 94,
     "metadata": {},
     "output_type": "execute_result"
    }
   ],
   "source": [
    "grouped = question1.groupby(['GenderMaritalStatus', 'Occupation']).mean()\n",
    "grouped.sort_values('NumberOfTrips', ascending = False)"
   ]
  },
  {
   "cell_type": "code",
   "execution_count": 95,
   "id": "ea39029f-b34f-4a72-8a25-370464820859",
   "metadata": {},
   "outputs": [
    {
     "data": {
      "image/png": "[encoded data removed]",
      "text/plain": [
       "<Figure size 432x288 with 1 Axes>"
      ]
     },
     "metadata": {},
     "output_type": "display_data"
    }
   ],
   "source": [
    "sns.set_theme(style=\"white\", context=\"talk\")\n",
    "sns.barplot(x=\"NumberOfTrips\" , y='GenderMaritalStatus',\n",
    "            hue = 'Occupation',\n",
    "             data=question1,\n",
    "           palette=\"rocket\",\n",
    "           ci=None).set(title='Who travels more?',\n",
    "                          xlabel = 'Number of trips', ylabel = ' ')\n",
    "plt.legend(bbox_to_anchor=(1.05, 1), loc=2, borderaxespad=0.)\n",
    "for spine in plt.gca().spines.values():\n",
    "    spine.set_visible(False)"
   ]
  },
  {
   "cell_type": "markdown",
   "id": "40e35911-27fa-4cf6-99ba-97a64dbbc50f",
   "metadata": {},
   "source": [
    "Our answer to who travels more: Single men that work in Large Businesses!"
   ]
  },
  {
   "cell_type": "code",
   "execution_count": 96,
   "id": "b7315fe5-a0e4-4086-bc83-451bcb27699b",
   "metadata": {},
   "outputs": [],
   "source": [
    "df.to_excel(\"travel-clean-data.xlsx\") "
   ]
  },
  {
   "cell_type": "markdown",
   "id": "bbf8337f-9161-46a2-9b37-7e5def22deec",
   "metadata": {},
   "source": [
    "You can find a Tableau interactive visualisation I created [here](https://public.tableau.com/app/profile/bruna.tessaro2596/viz/whotravelsmore/Dashboard1?publish=yes)."
   ]
  }
 ],
 "metadata": {
  "kernelspec": {
   "display_name": "Python 3 (ipykernel)",
   "language": "python",
   "name": "python3"
  },
  "language_info": {
   "codemirror_mode": {
    "name": "ipython",
    "version": 3
   },
   "file_extension": ".py",
   "mimetype": "text/x-python",
   "name": "python",
   "nbconvert_exporter": "python",
   "pygments_lexer": "ipython3",
   "version": "3.9.7"
  }
 },
 "nbformat": 4,
 "nbformat_minor": 5
}
